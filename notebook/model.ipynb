{
 "cells": [
  {
   "cell_type": "code",
   "execution_count": 1,
   "metadata": {},
   "outputs": [
    {
     "name": "stderr",
     "output_type": "stream",
     "text": [
      "/nethome/mhull32/miniconda3/envs/unr_adv/lib/python3.8/site-packages/tqdm/auto.py:22: TqdmWarning: IProgress not found. Please update jupyter and ipywidgets. See https://ipywidgets.readthedocs.io/en/stable/user_install.html\n",
      "  from .autonotebook import tqdm as notebook_tqdm\n",
      "2022-08-17 18:38:52.908675: I tensorflow/core/util/util.cc:169] oneDNN custom operations are on. You may see slightly different numerical results due to floating-point round-off errors from different computation orders. To turn them off, set the environment variable `TF_ENABLE_ONEDNN_OPTS=0`.\n"
     ]
    }
   ],
   "source": [
    "import csv\n",
    "import logging\n",
    "import multiprocessing\n",
    "import os\n",
    "import subprocess\n",
    "from multiprocessing import Pool\n",
    "from subprocess import check_output\n",
    "import logging\n",
    "import multiprocessing\n",
    "import random\n",
    "from itertools import product, repeat\n",
    "import itertools\n",
    "import PIL.Image\n",
    "import numpy as np\n",
    "import torchvision\n",
    "from PIL import Image\n",
    "from bird_or_bicycle import metadata\n",
    "from bird_or_bicycle.metadata import NUM_IMAGES_PER_CLASS\n",
    "from tqdm import tqdm\n",
    "import tensorflow_addons as tfa\n",
    "import torchvision.transforms.functional\n",
    "from torchvision.io import read_image\n",
    "import torch\n",
    "import torch.nn as nn\n",
    "import torchvision.transforms as T\n",
    "import matplotlib.pyplot as plt\n",
    "import torchvision.models as models\n",
    "from unrestricted_advex.eval_kit import logits_to_preds\n",
    "from bird_or_bicycle.iterator import *\n",
    "from unrestricted_advex.eval_kit import *\n",
    "from unrestricted_advex.eval_kit import _validate_logits\n",
    "\n",
    "BICYCLE_IDX = 0\n",
    "BIRD_IDX = 1"
   ]
  },
  {
   "cell_type": "code",
   "execution_count": 2,
   "metadata": {},
   "outputs": [],
   "source": [
    "def show(imgs):\n",
    "    fix, axs = plt.subplots(ncols=len(imgs), squeeze=False)\n",
    "    for i, img in enumerate(imgs):\n",
    "        img = T.ToPILImage()(img.to('cpu')) \n",
    "        axs[0, i].imshow(np.asarray(img))\n",
    "        axs[0, i].set(xticklabels=[], yticklabels=[], xticks=[], yticks=[])\n"
   ]
  },
  {
   "cell_type": "code",
   "execution_count": 3,
   "metadata": {},
   "outputs": [],
   "source": [
    "# bike_path  = '/nvmescratch/mhull32/unrestricted-adversarial-examples/data_generation/extras/bicycle/blender_0_black.jpg'\n",
    "# bird_path = '/nethome/mhull32/datasets/bird_or_bicycle/0.0.4/train/bird/083ba62f93396358.jpg'\n",
    "# bike = read_image(bike_path)\n",
    "# bird = read_image(bird_path)\n",
    "# show([bike, bird])"
   ]
  },
  {
   "cell_type": "code",
   "execution_count": 4,
   "metadata": {},
   "outputs": [],
   "source": [
    "checkpoint = torch.load('/nvmescratch/mhull32/unrestricted-adversarial-examples/model_zoo/undefended_pytorch_resnet.pth.tar')\n",
    "model = getattr(models, checkpoint['arch'])(num_classes=2)\n",
    "model = nn.Sequential(nn.BatchNorm2d(num_features=3, affine=False), model)\n",
    "model = torch.nn.DataParallel(model).cuda()\n",
    "model.load_state_dict(checkpoint['state_dict'])\n",
    "\n",
    "def wrapped_model(x_np):\n",
    "    x_np = x_np.transpose((0, 3, 1, 2))  # from NHWC to NCHW\n",
    "    x_t = torch.from_numpy(x_np).cuda()\n",
    "    model.eval()\n",
    "    with torch.no_grad():\n",
    "        return model(x_t).cpu().numpy()"
   ]
  },
  {
   "cell_type": "code",
   "execution_count": 5,
   "metadata": {},
   "outputs": [],
   "source": [
    "data_root='/nvmescratch/mhull32/unrestricted-adversarial-examples/data_generation'"
   ]
  },
  {
   "cell_type": "code",
   "execution_count": 12,
   "metadata": {},
   "outputs": [
    {
     "name": "stdout",
     "output_type": "stream",
     "text": [
      "Verification of dataset successful. Dataset is correctly prepared.\n"
     ]
    },
    {
     "ename": "FileNotFoundError",
     "evalue": "Found no valid file for the classes test. Supported extensions are: .jpg, .jpeg, .png, .ppm, .bmp, .pgm, .tif, .tiff, .webp",
     "output_type": "error",
     "traceback": [
      "\u001b[0;31m---------------------------------------------------------------------------\u001b[0m",
      "\u001b[0;31mFileNotFoundError\u001b[0m                         Traceback (most recent call last)",
      "\u001b[1;32m/nvmescratch/mhull32/unrestricted-adversarial-examples/notebook/model.ipynb Cell 6\u001b[0m in \u001b[0;36m<cell line: 35>\u001b[0;34m()\u001b[0m\n\u001b[1;32m     <a href='vscode-notebook-cell://ssh-remote%2Bpina1.cc.gatech.edu/nvmescratch/mhull32/unrestricted-adversarial-examples/notebook/model.ipynb#W5sdnNjb2RlLXJlbW90ZQ%3D%3D?line=29'>30</a>\u001b[0m   dataset_iter \u001b[39m=\u001b[39m ((x_batch\u001b[39m.\u001b[39mnumpy(), y_batch\u001b[39m.\u001b[39mnumpy(), image_ids)\n\u001b[1;32m     <a href='vscode-notebook-cell://ssh-remote%2Bpina1.cc.gatech.edu/nvmescratch/mhull32/unrestricted-adversarial-examples/notebook/model.ipynb#W5sdnNjb2RlLXJlbW90ZQ%3D%3D?line=30'>31</a>\u001b[0m                   \u001b[39mfor\u001b[39;00m (x_batch, y_batch, image_ids) \u001b[39min\u001b[39;00m \u001b[39miter\u001b[39m(data_loader))\n\u001b[1;32m     <a href='vscode-notebook-cell://ssh-remote%2Bpina1.cc.gatech.edu/nvmescratch/mhull32/unrestricted-adversarial-examples/notebook/model.ipynb#W5sdnNjb2RlLXJlbW90ZQ%3D%3D?line=32'>33</a>\u001b[0m   \u001b[39mreturn\u001b[39;00m dataset_iter\n\u001b[0;32m---> <a href='vscode-notebook-cell://ssh-remote%2Bpina1.cc.gatech.edu/nvmescratch/mhull32/unrestricted-adversarial-examples/notebook/model.ipynb#W5sdnNjb2RlLXJlbW90ZQ%3D%3D?line=34'>35</a>\u001b[0m dataset_iter \u001b[39m=\u001b[39m _get_iterator(batch_size\u001b[39m=\u001b[39;49m\u001b[39m1\u001b[39;49m)\n\u001b[1;32m     <a href='vscode-notebook-cell://ssh-remote%2Bpina1.cc.gatech.edu/nvmescratch/mhull32/unrestricted-adversarial-examples/notebook/model.ipynb#W5sdnNjb2RlLXJlbW90ZQ%3D%3D?line=36'>37</a>\u001b[0m \u001b[39mfor\u001b[39;00m i_batch, (x_np, y_np, image_ids) \u001b[39min\u001b[39;00m \u001b[39menumerate\u001b[39m(tqdm(dataset_iter)):\n\u001b[1;32m     <a href='vscode-notebook-cell://ssh-remote%2Bpina1.cc.gatech.edu/nvmescratch/mhull32/unrestricted-adversarial-examples/notebook/model.ipynb#W5sdnNjb2RlLXJlbW90ZQ%3D%3D?line=37'>38</a>\u001b[0m    \u001b[39m# print(i_batch)\u001b[39;00m\n\u001b[1;32m     <a href='vscode-notebook-cell://ssh-remote%2Bpina1.cc.gatech.edu/nvmescratch/mhull32/unrestricted-adversarial-examples/notebook/model.ipynb#W5sdnNjb2RlLXJlbW90ZQ%3D%3D?line=38'>39</a>\u001b[0m     \u001b[39mprint\u001b[39m(image_ids)\n",
      "\u001b[1;32m/nvmescratch/mhull32/unrestricted-adversarial-examples/notebook/model.ipynb Cell 6\u001b[0m in \u001b[0;36m_get_iterator\u001b[0;34m(batch_size, shuffle, verify_dataset)\u001b[0m\n\u001b[1;32m     <a href='vscode-notebook-cell://ssh-remote%2Bpina1.cc.gatech.edu/nvmescratch/mhull32/unrestricted-adversarial-examples/notebook/model.ipynb#W5sdnNjb2RlLXJlbW90ZQ%3D%3D?line=9'>10</a>\u001b[0m data_dir \u001b[39m=\u001b[39m bird_or_bicycle\u001b[39m.\u001b[39mget_dataset(split\u001b[39m=\u001b[39m\u001b[39m'\u001b[39m\u001b[39maugmented\u001b[39m\u001b[39m'\u001b[39m, data_root \u001b[39m=\u001b[39m data_root, verify\u001b[39m=\u001b[39m\u001b[39mTrue\u001b[39;00m)\n\u001b[1;32m     <a href='vscode-notebook-cell://ssh-remote%2Bpina1.cc.gatech.edu/nvmescratch/mhull32/unrestricted-adversarial-examples/notebook/model.ipynb#W5sdnNjb2RlLXJlbW90ZQ%3D%3D?line=11'>12</a>\u001b[0m image_preprocessing \u001b[39m=\u001b[39m torchvision\u001b[39m.\u001b[39mtransforms\u001b[39m.\u001b[39mCompose([\n\u001b[1;32m     <a href='vscode-notebook-cell://ssh-remote%2Bpina1.cc.gatech.edu/nvmescratch/mhull32/unrestricted-adversarial-examples/notebook/model.ipynb#W5sdnNjb2RlLXJlbW90ZQ%3D%3D?line=12'>13</a>\u001b[0m   torchvision\u001b[39m.\u001b[39mtransforms\u001b[39m.\u001b[39mResize(\u001b[39m224\u001b[39m),\n\u001b[1;32m     <a href='vscode-notebook-cell://ssh-remote%2Bpina1.cc.gatech.edu/nvmescratch/mhull32/unrestricted-adversarial-examples/notebook/model.ipynb#W5sdnNjb2RlLXJlbW90ZQ%3D%3D?line=13'>14</a>\u001b[0m   torchvision\u001b[39m.\u001b[39mtransforms\u001b[39m.\u001b[39mToTensor(),\n\u001b[1;32m     <a href='vscode-notebook-cell://ssh-remote%2Bpina1.cc.gatech.edu/nvmescratch/mhull32/unrestricted-adversarial-examples/notebook/model.ipynb#W5sdnNjb2RlLXJlbW90ZQ%3D%3D?line=14'>15</a>\u001b[0m   \u001b[39mlambda\u001b[39;00m x: torch\u001b[39m.\u001b[39meinsum(\u001b[39m'\u001b[39m\u001b[39mchw->hwc\u001b[39m\u001b[39m'\u001b[39m, [x]),\n\u001b[1;32m     <a href='vscode-notebook-cell://ssh-remote%2Bpina1.cc.gatech.edu/nvmescratch/mhull32/unrestricted-adversarial-examples/notebook/model.ipynb#W5sdnNjb2RlLXJlbW90ZQ%3D%3D?line=15'>16</a>\u001b[0m ])\n\u001b[0;32m---> <a href='vscode-notebook-cell://ssh-remote%2Bpina1.cc.gatech.edu/nvmescratch/mhull32/unrestricted-adversarial-examples/notebook/model.ipynb#W5sdnNjb2RlLXJlbW90ZQ%3D%3D?line=17'>18</a>\u001b[0m train_dataset \u001b[39m=\u001b[39m ImageFolderWithFilenames(\n\u001b[1;32m     <a href='vscode-notebook-cell://ssh-remote%2Bpina1.cc.gatech.edu/nvmescratch/mhull32/unrestricted-adversarial-examples/notebook/model.ipynb#W5sdnNjb2RlLXJlbW90ZQ%3D%3D?line=18'>19</a>\u001b[0m   data_dir, transform\u001b[39m=\u001b[39;49mimage_preprocessing\n\u001b[1;32m     <a href='vscode-notebook-cell://ssh-remote%2Bpina1.cc.gatech.edu/nvmescratch/mhull32/unrestricted-adversarial-examples/notebook/model.ipynb#W5sdnNjb2RlLXJlbW90ZQ%3D%3D?line=19'>20</a>\u001b[0m )\n\u001b[1;32m     <a href='vscode-notebook-cell://ssh-remote%2Bpina1.cc.gatech.edu/nvmescratch/mhull32/unrestricted-adversarial-examples/notebook/model.ipynb#W5sdnNjb2RlLXJlbW90ZQ%3D%3D?line=21'>22</a>\u001b[0m data_loader \u001b[39m=\u001b[39m torch\u001b[39m.\u001b[39mutils\u001b[39m.\u001b[39mdata\u001b[39m.\u001b[39mDataLoader(\n\u001b[1;32m     <a href='vscode-notebook-cell://ssh-remote%2Bpina1.cc.gatech.edu/nvmescratch/mhull32/unrestricted-adversarial-examples/notebook/model.ipynb#W5sdnNjb2RlLXJlbW90ZQ%3D%3D?line=22'>23</a>\u001b[0m   train_dataset,\n\u001b[1;32m     <a href='vscode-notebook-cell://ssh-remote%2Bpina1.cc.gatech.edu/nvmescratch/mhull32/unrestricted-adversarial-examples/notebook/model.ipynb#W5sdnNjb2RlLXJlbW90ZQ%3D%3D?line=23'>24</a>\u001b[0m   batch_size\u001b[39m=\u001b[39mbatch_size,\n\u001b[1;32m     <a href='vscode-notebook-cell://ssh-remote%2Bpina1.cc.gatech.edu/nvmescratch/mhull32/unrestricted-adversarial-examples/notebook/model.ipynb#W5sdnNjb2RlLXJlbW90ZQ%3D%3D?line=24'>25</a>\u001b[0m   shuffle\u001b[39m=\u001b[39mshuffle)\n\u001b[1;32m     <a href='vscode-notebook-cell://ssh-remote%2Bpina1.cc.gatech.edu/nvmescratch/mhull32/unrestricted-adversarial-examples/notebook/model.ipynb#W5sdnNjb2RlLXJlbW90ZQ%3D%3D?line=26'>27</a>\u001b[0m \u001b[39massert\u001b[39;00m train_dataset\u001b[39m.\u001b[39mclass_to_idx[\u001b[39m'\u001b[39m\u001b[39mbicycle\u001b[39m\u001b[39m'\u001b[39m] \u001b[39m==\u001b[39m BICYCLE_IDX\n",
      "File \u001b[0;32m~/miniconda3/envs/unr_adv/lib/python3.8/site-packages/torchvision/datasets/folder.py:310\u001b[0m, in \u001b[0;36mImageFolder.__init__\u001b[0;34m(self, root, transform, target_transform, loader, is_valid_file)\u001b[0m\n\u001b[1;32m    302\u001b[0m \u001b[39mdef\u001b[39;00m \u001b[39m__init__\u001b[39m(\n\u001b[1;32m    303\u001b[0m     \u001b[39mself\u001b[39m,\n\u001b[1;32m    304\u001b[0m     root: \u001b[39mstr\u001b[39m,\n\u001b[0;32m   (...)\u001b[0m\n\u001b[1;32m    308\u001b[0m     is_valid_file: Optional[Callable[[\u001b[39mstr\u001b[39m], \u001b[39mbool\u001b[39m]] \u001b[39m=\u001b[39m \u001b[39mNone\u001b[39;00m,\n\u001b[1;32m    309\u001b[0m ):\n\u001b[0;32m--> 310\u001b[0m     \u001b[39msuper\u001b[39;49m()\u001b[39m.\u001b[39;49m\u001b[39m__init__\u001b[39;49m(\n\u001b[1;32m    311\u001b[0m         root,\n\u001b[1;32m    312\u001b[0m         loader,\n\u001b[1;32m    313\u001b[0m         IMG_EXTENSIONS \u001b[39mif\u001b[39;49;00m is_valid_file \u001b[39mis\u001b[39;49;00m \u001b[39mNone\u001b[39;49;00m \u001b[39melse\u001b[39;49;00m \u001b[39mNone\u001b[39;49;00m,\n\u001b[1;32m    314\u001b[0m         transform\u001b[39m=\u001b[39;49mtransform,\n\u001b[1;32m    315\u001b[0m         target_transform\u001b[39m=\u001b[39;49mtarget_transform,\n\u001b[1;32m    316\u001b[0m         is_valid_file\u001b[39m=\u001b[39;49mis_valid_file,\n\u001b[1;32m    317\u001b[0m     )\n\u001b[1;32m    318\u001b[0m     \u001b[39mself\u001b[39m\u001b[39m.\u001b[39mimgs \u001b[39m=\u001b[39m \u001b[39mself\u001b[39m\u001b[39m.\u001b[39msamples\n",
      "File \u001b[0;32m~/miniconda3/envs/unr_adv/lib/python3.8/site-packages/torchvision/datasets/folder.py:146\u001b[0m, in \u001b[0;36mDatasetFolder.__init__\u001b[0;34m(self, root, loader, extensions, transform, target_transform, is_valid_file)\u001b[0m\n\u001b[1;32m    144\u001b[0m \u001b[39msuper\u001b[39m()\u001b[39m.\u001b[39m\u001b[39m__init__\u001b[39m(root, transform\u001b[39m=\u001b[39mtransform, target_transform\u001b[39m=\u001b[39mtarget_transform)\n\u001b[1;32m    145\u001b[0m classes, class_to_idx \u001b[39m=\u001b[39m \u001b[39mself\u001b[39m\u001b[39m.\u001b[39mfind_classes(\u001b[39mself\u001b[39m\u001b[39m.\u001b[39mroot)\n\u001b[0;32m--> 146\u001b[0m samples \u001b[39m=\u001b[39m \u001b[39mself\u001b[39;49m\u001b[39m.\u001b[39;49mmake_dataset(\u001b[39mself\u001b[39;49m\u001b[39m.\u001b[39;49mroot, class_to_idx, extensions, is_valid_file)\n\u001b[1;32m    148\u001b[0m \u001b[39mself\u001b[39m\u001b[39m.\u001b[39mloader \u001b[39m=\u001b[39m loader\n\u001b[1;32m    149\u001b[0m \u001b[39mself\u001b[39m\u001b[39m.\u001b[39mextensions \u001b[39m=\u001b[39m extensions\n",
      "File \u001b[0;32m~/miniconda3/envs/unr_adv/lib/python3.8/site-packages/torchvision/datasets/folder.py:190\u001b[0m, in \u001b[0;36mDatasetFolder.make_dataset\u001b[0;34m(directory, class_to_idx, extensions, is_valid_file)\u001b[0m\n\u001b[1;32m    185\u001b[0m \u001b[39mif\u001b[39;00m class_to_idx \u001b[39mis\u001b[39;00m \u001b[39mNone\u001b[39;00m:\n\u001b[1;32m    186\u001b[0m     \u001b[39m# prevent potential bug since make_dataset() would use the class_to_idx logic of the\u001b[39;00m\n\u001b[1;32m    187\u001b[0m     \u001b[39m# find_classes() function, instead of using that of the find_classes() method, which\u001b[39;00m\n\u001b[1;32m    188\u001b[0m     \u001b[39m# is potentially overridden and thus could have a different logic.\u001b[39;00m\n\u001b[1;32m    189\u001b[0m     \u001b[39mraise\u001b[39;00m \u001b[39mValueError\u001b[39;00m(\u001b[39m\"\u001b[39m\u001b[39mThe class_to_idx parameter cannot be None.\u001b[39m\u001b[39m\"\u001b[39m)\n\u001b[0;32m--> 190\u001b[0m \u001b[39mreturn\u001b[39;00m make_dataset(directory, class_to_idx, extensions\u001b[39m=\u001b[39;49mextensions, is_valid_file\u001b[39m=\u001b[39;49mis_valid_file)\n",
      "File \u001b[0;32m~/miniconda3/envs/unr_adv/lib/python3.8/site-packages/torchvision/datasets/folder.py:103\u001b[0m, in \u001b[0;36mmake_dataset\u001b[0;34m(directory, class_to_idx, extensions, is_valid_file)\u001b[0m\n\u001b[1;32m    101\u001b[0m     \u001b[39mif\u001b[39;00m extensions \u001b[39mis\u001b[39;00m \u001b[39mnot\u001b[39;00m \u001b[39mNone\u001b[39;00m:\n\u001b[1;32m    102\u001b[0m         msg \u001b[39m+\u001b[39m\u001b[39m=\u001b[39m \u001b[39mf\u001b[39m\u001b[39m\"\u001b[39m\u001b[39mSupported extensions are: \u001b[39m\u001b[39m{\u001b[39;00mextensions \u001b[39mif\u001b[39;00m \u001b[39misinstance\u001b[39m(extensions, \u001b[39mstr\u001b[39m) \u001b[39melse\u001b[39;00m \u001b[39m'\u001b[39m\u001b[39m, \u001b[39m\u001b[39m'\u001b[39m\u001b[39m.\u001b[39mjoin(extensions)\u001b[39m}\u001b[39;00m\u001b[39m\"\u001b[39m\n\u001b[0;32m--> 103\u001b[0m     \u001b[39mraise\u001b[39;00m \u001b[39mFileNotFoundError\u001b[39;00m(msg)\n\u001b[1;32m    105\u001b[0m \u001b[39mreturn\u001b[39;00m instances\n",
      "\u001b[0;31mFileNotFoundError\u001b[0m: Found no valid file for the classes test. Supported extensions are: .jpg, .jpeg, .png, .ppm, .bmp, .pgm, .tif, .tiff, .webp"
     ]
    }
   ],
   "source": [
    "def _get_iterator(batch_size=4, shuffle=True,\n",
    "                 verify_dataset=True):\n",
    "  \"\"\" Create a backend-agnostic iterator for the dataset.\n",
    "  Images are formatted in channels-last in the Tensorflow style\n",
    "  :param split: One of ['train', 'test', 'extras']\n",
    "  :param batch_size: The number of images and labels in each batch\n",
    "  :param shuffle: Whether or not to shuffle\n",
    "  :return:  An iterable that returns (batched_images, batched_labels, batched_image_ids)\n",
    "  \"\"\"\n",
    "  data_dir = bird_or_bicycle.get_dataset(split='augmented', data_root = data_root, verify=True)\n",
    "\n",
    "  image_preprocessing = torchvision.transforms.Compose([\n",
    "    torchvision.transforms.Resize(224),\n",
    "    torchvision.transforms.ToTensor(),\n",
    "    lambda x: torch.einsum('chw->hwc', [x]),\n",
    "  ])\n",
    "\n",
    "  train_dataset = ImageFolderWithFilenames(\n",
    "    data_dir, transform=image_preprocessing\n",
    "  )\n",
    "\n",
    "  data_loader = torch.utils.data.DataLoader(\n",
    "    train_dataset,\n",
    "    batch_size=batch_size,\n",
    "    shuffle=shuffle)\n",
    "\n",
    "  assert train_dataset.class_to_idx['bicycle'] == BICYCLE_IDX\n",
    "  assert train_dataset.class_to_idx['bird'] == BIRD_IDX\n",
    "\n",
    "  dataset_iter = ((x_batch.numpy(), y_batch.numpy(), image_ids)\n",
    "                  for (x_batch, y_batch, image_ids) in iter(data_loader))\n",
    "\n",
    "  return dataset_iter\n",
    "\n",
    "dataset_iter = _get_iterator(batch_size=1)\n",
    "\n",
    "for i_batch, (x_np, y_np, image_ids) in enumerate(tqdm(dataset_iter)):\n",
    "   # print(i_batch)\n",
    "    print(image_ids)"
   ]
  },
  {
   "cell_type": "code",
   "execution_count": null,
   "metadata": {},
   "outputs": [],
   "source": [
    "for i_batch, (x_np, y_np, image_ids) in enumerate(tqdm(dataset_iter)):\n",
    "    assert x_np.shape[-1] == 3 or x_np.shape[-1] == 1, \"Data was {}, should be NHWC\".format(\n",
    "      x_np.shape)\n",
    "    # x_adv = attack_fn(model, x_np, y_np)s\n",
    "    x_adv = x_np\n",
    "    logits = wrapped_model(x_adv)\n",
    "    correct = np.equal(logits_to_preds(logits), y_np).astype(np.float32)\n",
    "    _validate_logits(logits, batch_size=len(x_np))"
   ]
  }
 ],
 "metadata": {
  "kernelspec": {
   "display_name": "Python 3.8.13 ('unr_adv')",
   "language": "python",
   "name": "python3"
  },
  "language_info": {
   "codemirror_mode": {
    "name": "ipython",
    "version": 3
   },
   "file_extension": ".py",
   "mimetype": "text/x-python",
   "name": "python",
   "nbconvert_exporter": "python",
   "pygments_lexer": "ipython3",
   "version": "3.8.13"
  },
  "orig_nbformat": 4,
  "vscode": {
   "interpreter": {
    "hash": "2b1ec98bee90631ae52a8686ce58fef3ae3aa195e31a2dd8aa379804eea27e84"
   }
  }
 },
 "nbformat": 4,
 "nbformat_minor": 2
}
